{
 "cells": [
  {
   "cell_type": "code",
   "execution_count": 70,
   "metadata": {},
   "outputs": [
    {
     "name": "stdout",
     "output_type": "stream",
     "text": [
      "Following is the Depth-First Search\n",
      "3 4 5 6 7 2 8 \n",
      " the number is found \n",
      " continue searching...\n",
      "1 "
     ]
    }
   ],
   "source": [
    "# Using a Python dictionary to act as an adjacency list\n",
    "graph = {\n",
    "  '3' : ['4','8','1'],\n",
    "  '4' : ['5'],\n",
    "  '8' : ['5'],\n",
    "  '1' : ['6'],\n",
    "  '5' : ['6','2'],\n",
    "  '2' : ['7'],\n",
    "  '6' : ['7'],\n",
    "  '7' : ['3']\n",
    "}\n",
    "\n",
    "visited = set()# Set to keep track of visited nodes of graph.\n",
    "loop=0\n",
    "def dfs(visited, graph, node,test):  #function for dfs \n",
    "\n",
    "    if node not in visited :   \n",
    "        print (node, end = \" \")    \n",
    "        visited.add(node)\n",
    "        loop=0\n",
    "        if int(node) == 8:\n",
    "                print ('\\n the number is found \\n continue searching...')\n",
    "                test=1\n",
    "                \n",
    "                \n",
    "        for neighbour in graph[node]:\n",
    "            if loop==1:\n",
    "                break\n",
    "\n",
    "            dfs(visited, graph, neighbour,test)\n",
    "            \n",
    "# Driver Code\n",
    "print(\"Following is the Depth-First Search\")\n",
    "dfs(visited, graph, '3',test)"
   ]
  }
 ],
 "metadata": {
  "kernelspec": {
   "display_name": "base",
   "language": "python",
   "name": "python3"
  },
  "language_info": {
   "codemirror_mode": {
    "name": "ipython",
    "version": 3
   },
   "file_extension": ".py",
   "mimetype": "text/x-python",
   "name": "python",
   "nbconvert_exporter": "python",
   "pygments_lexer": "ipython3",
   "version": "3.11.4"
  }
 },
 "nbformat": 4,
 "nbformat_minor": 2
}
